{
 "cells": [
  {
   "cell_type": "code",
   "execution_count": 1,
   "metadata": {},
   "outputs": [
    {
     "name": "stdout",
     "output_type": "stream",
     "text": [
      "(10, 10, 3)\n"
     ]
    },
    {
     "data": {
      "image/png": "[encoded data removed]",
      "text/plain": [
       "<Figure size 640x480 with 1 Axes>"
      ]
     },
     "metadata": {},
     "output_type": "display_data"
    }
   ],
   "source": [
    "from skimage import io  # 从'skimage'库中导入用于读取图像的'io'模块\n",
    "import matplotlib.pyplot as plt  # 从'matplotlib'库中导入用于绘图的'pyplot'模块，并简称为'plt'\n",
    "\n",
    "img = io.imread('x.jpg')  # 使用'io'模块中的'imread'函数读取图像'x.jpg'，并将其存储在'img'变量中\n",
    "\n",
    "print(img.shape)  # 打印'img'图像的形状，形状通常表示为（高度，宽度，通道数）\n",
    "\n",
    "h, w, c = img.shape  # 将图像的高度、宽度和通道数分别存储在变量'h'、'w'和'c'中\n",
    "\n",
    "# 下面使用一个循环遍历图像的每一列\n",
    "for i in range(w):  # 'i'从 0 到图像的宽度 - 1\n",
    "    for j in range(h//2):  # 'j'从 0 到图像的高度 - 1\n",
    "        img[j, i][0] = 255  # 将图像的第 'j' 行和第 'i' 列的红色通道值设置为 255（白色）\n",
    "\n",
    "plt.imshow(img)  # 使用'matplotlib.pyplot'的'imshow'函数来显示处理后的图像'img'\n",
    "plt.show()  # 展示绘制出来的图像"
   ]
  }
 ],
 "metadata": {
  "kernelspec": {
   "display_name": "base",
   "language": "python",
   "name": "python3"
  },
  "language_info": {
   "codemirror_mode": {
    "name": "ipython",
    "version": 3
   },
   "file_extension": ".py",
   "mimetype": "text/x-python",
   "name": "python",
   "nbconvert_exporter": "python",
   "pygments_lexer": "ipython3",
   "version": "3.11.11"
  }
 },
 "nbformat": 4,
 "nbformat_minor": 2
}
